{
 "cells": [
  {
   "cell_type": "code",
   "execution_count": 3,
   "metadata": {},
   "outputs": [],
   "source": [
    "import json\n",
    "import jsonlines"
   ]
  },
  {
   "cell_type": "code",
   "execution_count": 4,
   "metadata": {},
   "outputs": [],
   "source": [
    "file = \"data/train1.0.json\""
   ]
  },
  {
   "cell_type": "code",
   "execution_count": 5,
   "metadata": {},
   "outputs": [],
   "source": [
    "with jsonlines.open(file, 'r') as f:\n",
    "    data = f.read()"
   ]
  },
  {
   "cell_type": "code",
   "execution_count": 6,
   "metadata": {},
   "outputs": [
    {
     "data": {
      "text/plain": [
       "2"
      ]
     },
     "execution_count": 6,
     "metadata": {},
     "output_type": "execute_result"
    }
   ],
   "source": [
    "len(data)"
   ]
  },
  {
   "cell_type": "code",
   "execution_count": 10,
   "metadata": {},
   "outputs": [
    {
     "data": {
      "text/plain": [
       "dict_keys(['data', 'version'])"
      ]
     },
     "execution_count": 10,
     "metadata": {},
     "output_type": "execute_result"
    }
   ],
   "source": [
    "data.keys()"
   ]
  },
  {
   "cell_type": "code",
   "execution_count": 14,
   "metadata": {},
   "outputs": [
    {
     "data": {
      "text/plain": [
       "dict_keys(['document', 'source'])"
      ]
     },
     "execution_count": 14,
     "metadata": {},
     "output_type": "execute_result"
    }
   ],
   "source": [
    "data['data'][1].keys()"
   ]
  },
  {
   "cell_type": "code",
   "execution_count": 17,
   "metadata": {},
   "outputs": [
    {
     "data": {
      "text/plain": [
       "dict_keys(['qas', 'title', 'context'])"
      ]
     },
     "execution_count": 17,
     "metadata": {},
     "output_type": "execute_result"
    }
   ],
   "source": [
    "data['data'][1]['document'].keys()"
   ]
  },
  {
   "cell_type": "code",
   "execution_count": 20,
   "metadata": {},
   "outputs": [
    {
     "data": {
      "text/plain": [
       "8"
      ]
     },
     "execution_count": 20,
     "metadata": {},
     "output_type": "execute_result"
    }
   ],
   "source": [
    "len(data['data'][1]['document']['qas'])"
   ]
  },
  {
   "cell_type": "code",
   "execution_count": 23,
   "metadata": {},
   "outputs": [
    {
     "data": {
      "text/plain": [
       "dict_keys(['answers', 'id', 'query'])"
      ]
     },
     "execution_count": 23,
     "metadata": {},
     "output_type": "execute_result"
    }
   ],
   "source": [
    "data['data'][1]['document']['qas'][0].keys()"
   ]
  },
  {
   "cell_type": "code",
   "execution_count": 31,
   "metadata": {},
   "outputs": [
    {
     "data": {
      "text/plain": [
       "'@placeholder have more chance of BEG__complications__END such as BEG__spontaneous rupture__END , which may be fatal .'"
      ]
     },
     "execution_count": 31,
     "metadata": {},
     "output_type": "execute_result"
    }
   ],
   "source": [
    "data['data'][1]['document']['qas'][2]['query']"
   ]
  },
  {
   "cell_type": "code",
   "execution_count": 32,
   "metadata": {},
   "outputs": [
    {
     "data": {
      "text/plain": [
       "[{'text': 'Larger pseudoaneurysms',\n",
       "  'origin': 'dataset',\n",
       "  'sem_type': 'problem',\n",
       "  'cui': 'C1510412'},\n",
       " {'text': 'False Aneurysms',\n",
       "  'origin': 'UMLS',\n",
       "  'sem_type': 'problem',\n",
       "  'cui': 'C1510412'},\n",
       " {'text': 'Pseudoaneurysm (morphologic abnormality)',\n",
       "  'origin': 'UMLS',\n",
       "  'sem_type': 'problem',\n",
       "  'cui': 'C1510412'},\n",
       " {'text': 'false aneurysm',\n",
       "  'origin': 'UMLS',\n",
       "  'sem_type': 'problem',\n",
       "  'cui': 'C1510412'},\n",
       " {'text': 'Pseudoaneurysm',\n",
       "  'origin': 'UMLS',\n",
       "  'sem_type': 'problem',\n",
       "  'cui': 'C1510412'},\n",
       " {'text': 'Aneurysm, False [Disease/Finding]',\n",
       "  'origin': 'UMLS',\n",
       "  'sem_type': 'problem',\n",
       "  'cui': 'C1510412'},\n",
       " {'text': 'Aneurysm;false',\n",
       "  'origin': 'UMLS',\n",
       "  'sem_type': 'problem',\n",
       "  'cui': 'C1510412'},\n",
       " {'text': 'Pulsatile haematoma',\n",
       "  'origin': 'UMLS',\n",
       "  'sem_type': 'problem',\n",
       "  'cui': 'C1510412'},\n",
       " {'text': 'Aneurysm, False',\n",
       "  'origin': 'UMLS',\n",
       "  'sem_type': 'problem',\n",
       "  'cui': 'C1510412'},\n",
       " {'text': 'Aneurysmal hematoma',\n",
       "  'origin': 'UMLS',\n",
       "  'sem_type': 'problem',\n",
       "  'cui': 'C1510412'},\n",
       " {'text': 'Vascular pseudoaneurysm',\n",
       "  'origin': 'UMLS',\n",
       "  'sem_type': 'problem',\n",
       "  'cui': 'C1510412'},\n",
       " {'text': 'Aneurysms, False',\n",
       "  'origin': 'UMLS',\n",
       "  'sem_type': 'problem',\n",
       "  'cui': 'C1510412'},\n",
       " {'text': 'Pseudoaneurysm (disorder)',\n",
       "  'origin': 'UMLS',\n",
       "  'sem_type': 'problem',\n",
       "  'cui': 'C1510412'},\n",
       " {'text': 'Aneurysmal haematoma',\n",
       "  'origin': 'UMLS',\n",
       "  'sem_type': 'problem',\n",
       "  'cui': 'C1510412'},\n",
       " {'text': 'Spurious aneurysm',\n",
       "  'origin': 'UMLS',\n",
       "  'sem_type': 'problem',\n",
       "  'cui': 'C1510412'},\n",
       " {'text': 'False Aneurysm',\n",
       "  'origin': 'UMLS',\n",
       "  'sem_type': 'problem',\n",
       "  'cui': 'C1510412'},\n",
       " {'text': 'Aneurysm, false',\n",
       "  'origin': 'UMLS',\n",
       "  'sem_type': 'problem',\n",
       "  'cui': 'C1510412'},\n",
       " {'text': 'False aneurysm',\n",
       "  'origin': 'UMLS',\n",
       "  'sem_type': 'problem',\n",
       "  'cui': 'C1510412'},\n",
       " {'text': 'Pulsatile hematoma',\n",
       "  'origin': 'UMLS',\n",
       "  'sem_type': 'problem',\n",
       "  'cui': 'C1510412'},\n",
       " {'text': 'Pseudoaneurysms',\n",
       "  'origin': 'UMLS',\n",
       "  'sem_type': 'problem',\n",
       "  'cui': 'C1510412'}]"
      ]
     },
     "execution_count": 32,
     "metadata": {},
     "output_type": "execute_result"
    }
   ],
   "source": [
    "data['data'][1]['document']['qas'][2]['answers']"
   ]
  },
  {
   "cell_type": "code",
   "execution_count": 43,
   "metadata": {},
   "outputs": [
    {
     "data": {
      "text/plain": [
       "'BEG__Arterial injuries__END may be missed , and should be suspected for @placeholder , especially .'"
      ]
     },
     "execution_count": 43,
     "metadata": {},
     "output_type": "execute_result"
    }
   ],
   "source": [
    "data['data'][1]['document']['qas'][1]['query']"
   ]
  },
  {
   "cell_type": "code",
   "execution_count": 44,
   "metadata": {},
   "outputs": [
    {
     "data": {
      "text/plain": [
       "[{'text': 'superficially placed vessels',\n",
       "  'origin': 'dataset',\n",
       "  'sem_type': 'problem',\n",
       "  'cui': 'C0229887'},\n",
       " {'text': 'Entire superficial lymphatic vessel',\n",
       "  'origin': 'UMLS',\n",
       "  'sem_type': 'problem',\n",
       "  'cui': 'C0229887'},\n",
       " {'text': 'Superficial lymphatic vessels, NOS',\n",
       "  'origin': 'UMLS',\n",
       "  'sem_type': 'problem',\n",
       "  'cui': 'C0229887'},\n",
       " {'text': 'Superficial lymphatic vessels',\n",
       "  'origin': 'UMLS',\n",
       "  'sem_type': 'problem',\n",
       "  'cui': 'C0229887'},\n",
       " {'text': 'Superficial lymphatic vessel',\n",
       "  'origin': 'UMLS',\n",
       "  'sem_type': 'problem',\n",
       "  'cui': 'C0229887'},\n",
       " {'text': 'Entire superficial lymphatic vessel (body structure)',\n",
       "  'origin': 'UMLS',\n",
       "  'sem_type': 'problem',\n",
       "  'cui': 'C0229887'}]"
      ]
     },
     "execution_count": 44,
     "metadata": {},
     "output_type": "execute_result"
    }
   ],
   "source": [
    "data['data'][1]['document']['qas'][1]['answers']"
   ]
  },
  {
   "cell_type": "code",
   "execution_count": 37,
   "metadata": {},
   "outputs": [
    {
     "data": {
      "text/plain": [
       "'A 40 - year - old man presented with BEG__shortness of breath__END and BEG__cough__END .\\nBEG__Chest radiography__END showed BEG__extensive bilateral nodular opacities__END ( sandstorm - like ) predominantly in the middle and lower lobe ( fig 1A ) in the absence of BEG__metabolic abnormalities__END .\\nBEG__Pulmonary function test__END revealed BEG__restrictive pattern of ventilation__END .\\nBEG__High resolution computed tomography ( CT ) scan__END showed BEG__ground glass__END and BEG__increased parenchymal attenuation__END with coarsened , coalescing , BEG__nodular alveolar infiltrates__END associated with BEG__thickening__END and BEG__nodularity of peribronchovascular , interlobular and subpleural interstitium__END ( fig 1B ) .\\nThe changes were more pronounced and dense in the subpleural centrilobular area .\\nPatent bronchi and BEG__interspersed subpleural emphysematous changes__END ( producing BEG__black pleural line )__END were present .\\nThis was further confirmed by BEG__histopathological examination of the lung biopsy specimen__END which showed normal respiratory epithelium with BEG__dilated alveolar spaces__END containing BEG__calcific bodies__END ;\\nsome of them were concentric ( fig 2 ) .\\n\\n( A ) Photomicrograph of BEG__transbronchial lung biopsy__END stained with periodic acid – Schiff ( PAS ) showing normal respiratory epithelium with BEG__dilated alveolar spaces__END containing BEG__many calcific bodies__END , some of which show BEG__concentric calcification__END .\\n( B ) Photomicrograph of the BEG__lung biopsy__END showing BEG__dark blackish brown__END , BEG__concentric calcific material in the background of light brown interstitial fibrovascular structures__END .\\nBEG__Von Kossa silver stain__END × 400 .\\n\\nBEG__Pulmonary alveolar microlithiasis__END ( PAM ) is a BEG__rare disorder__END of uncertain aetiology , with both BEG__sporadic and familial occurrence__END .\\nThe familial cases are known to be transmitted in autosomal recessive fashion with 100 % penetrance .\\nThe gene responsible has been identified as a BEG__homogenous mutation__END in SLC34A2 , which encodes a BEG__type IIb sodium phosphate__END co-transporter .\\nPAM has striking discordance between the extent of radiologic involvement and the severity of clinical presentation .\\nNo treatment is required for BEG__asymptomatic patients__END , but severe cases require BEG__lung transplantation__END .'"
      ]
     },
     "execution_count": 37,
     "metadata": {},
     "output_type": "execute_result"
    }
   ],
   "source": [
    "data['data'][2]['document']['context']"
   ]
  },
  {
   "cell_type": "code",
   "execution_count": null,
   "metadata": {},
   "outputs": [],
   "source": []
  }
 ],
 "metadata": {
  "kernelspec": {
   "display_name": "Py3-basic",
   "language": "python",
   "name": "python3"
  },
  "language_info": {
   "codemirror_mode": {
    "name": "ipython",
    "version": 3
   },
   "file_extension": ".py",
   "mimetype": "text/x-python",
   "name": "python",
   "nbconvert_exporter": "python",
   "pygments_lexer": "ipython3",
   "version": "3.7.2"
  }
 },
 "nbformat": 4,
 "nbformat_minor": 2
}
